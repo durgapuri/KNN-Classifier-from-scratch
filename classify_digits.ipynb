{
 "cells": [
  {
   "cell_type": "code",
   "execution_count": 100,
   "metadata": {},
   "outputs": [],
   "source": [
    "import numpy as np\n",
    "import pandas as pd\n",
    "import random\n",
    "from sklearn.metrics import accuracy_score\n",
    "from sklearn.metrics import f1_score\n",
    "from sklearn.metrics import confusion_matrix\n",
    "from sklearn.metrics import classification_report\n",
    "import matplotlib.pyplot as plt \n",
    "\n",
    "class KNNClassifier:\n",
    "    train_data = pd.DataFrame()\n",
    "    k = None\n",
    "    \n",
    "    def train_validation_split(self,data_frm,validation_data_size):\n",
    "        if isinstance(validation_data_size, float):\n",
    "            validation_data_size=round(validation_data_size * len(data_frm))\n",
    "\n",
    "        indices=data_frm.index.tolist()\n",
    "\n",
    "        valid_indices=random.sample(indices, validation_data_size)\n",
    "        valid_datafrm=data_frm.loc[valid_indices]\n",
    "\n",
    "        train_datafrm=data_frm.drop(valid_indices)\n",
    "\n",
    "        return train_datafrm, valid_datafrm\n",
    "    \n",
    "    def createDistanceLabelEuclidean(self, test_sample):\n",
    "        results_dist_label=[]\n",
    "        for li in self.train_data:\n",
    "            test_list=test_sample[0:]\n",
    "            train_list=li[1:]\n",
    "            dist=np.linalg.norm(test_list-train_list)\n",
    "            results_dist_label.append([dist,li[0]])\n",
    "\n",
    "        results_dist_label.sort()\n",
    "\n",
    "        return results_dist_label\n",
    "    \n",
    "    def createDistanceLabelManhattan(self, test_sample):\n",
    "        results_dist_label=[]\n",
    "        for li in self.train_data:\n",
    "            test_list=test_sample[0:]\n",
    "            train_list=li[1:]\n",
    "            dist=np.sum(np.absolute(test_list - train_list))\n",
    "            results_dist_label.append([dist,li[0]])\n",
    "\n",
    "        results_dist_label.sort()\n",
    "\n",
    "        return results_dist_label\n",
    "    \n",
    "    def getPredictedLabelValue(self,results_dist_label):\n",
    "        label_count={}\n",
    "        for i in range(self.k):\n",
    "            val = results_dist_label[i][1]\n",
    "            if val in label_count:\n",
    "                label_count[val]+=1\n",
    "            else:\n",
    "                label_count[val]=1\n",
    "\n",
    "    #     for ky,vl in label_count.items():\n",
    "    #         print(ky,\":\",vl)\n",
    "\n",
    "        return max(label_count,key=label_count.get)\n",
    "    \n",
    "    \n",
    "    def getPredictedLabels(self, validation_data):\n",
    "        predicted_list=[]\n",
    "\n",
    "        for test_sample in validation_data:\n",
    "#             results_dist_label = self.createDistanceLabelEuclidean(test_sample)\n",
    "            results_dist_label = self.createDistanceLabelManhattan(test_sample)\n",
    "            predicted_label = self.getPredictedLabelValue(results_dist_label)\n",
    "            predicted_list.append(predicted_label)\n",
    "        return predicted_list\n",
    "    \n",
    "    def check_validation(self,train_data_frm, validation_data_size):\n",
    "        random.seed(0)\n",
    "        train_data_frm , validation_data_frm = self.train_validation_split(train_data_frm, validation_data_size)\n",
    "        self.train_data = train_data_frm.values\n",
    "        \n",
    "        validation_data_labels = validation_data_frm.iloc[:,0].to_frame().values.tolist()\n",
    "        validation_data_frm = validation_data_frm.drop([validation_data_frm.columns[0]],  axis='columns')\n",
    "        validation_data = validation_data_frm.values\n",
    "        accuracy_scores_list = []\n",
    "        f1_scores_list = []\n",
    "        k_values = [1,2,3,5,6,7,9]\n",
    "        for k_val in k_values:\n",
    "            print(k_val)\n",
    "            self.k = k_val\n",
    "            predicted_labels = self.getPredictedLabels(validation_data)\n",
    "            accuracy_scores_list.append(accuracy_score(validation_data_labels, predicted_labels))\n",
    "            f1_scores_list.append(f1_score(validation_data_labels, predicted_labels, average='micro', zero_division='warn'))\n",
    "        return accuracy_scores_list, f1_scores_list\n",
    "   \n",
    "    def train(self,train_data_path):\n",
    "        train_data_frm = pd.read_csv(train_data_path)\n",
    "        self.k = 3\n",
    "#         accuracy_scores_list , f1_scores_list = self.check_validation(train_data_frm, validation_data_size = 2000)\n",
    "        self.train_data = train_data_frm.values\n",
    "#         return accuracy_scores_list , f1_scores_list\n",
    "    \n",
    "    def predict(self,test_path):\n",
    "        test_data_frm = pd.read_csv(test_path, header=None)\n",
    "        predicted_labels = self.getPredictedLabels(test_data_frm.values)\n",
    "        return predicted_labels\n",
    "               \n",
    "        "
   ]
  },
  {
   "cell_type": "code",
   "execution_count": 89,
   "metadata": {},
   "outputs": [],
   "source": [
    "knn_classifier = KNNClassifier()\n",
    "# knn_classifier.train('/home/jyoti/Documents/SMAI/assign1/q1/train.csv')\n",
    "# predictions = knn_classifier.predict('/home/jyoti/Documents/SMAI/assign1/q1/test.csv')\n",
    "# test_labels = list()\n",
    "# with open('/home/jyoti/Documents/SMAI/assign1/q1/test_labels.csv') as f:\n",
    "#   for line in f:\n",
    "#     test_labels.append(int(line))\n",
    "# print (accuracy_score(test_labels, predictions))"
   ]
  },
  {
   "cell_type": "markdown",
   "metadata": {},
   "source": [
    "## Report for Euclidean Distance"
   ]
  },
  {
   "cell_type": "code",
   "execution_count": 50,
   "metadata": {},
   "outputs": [
    {
     "name": "stdout",
     "output_type": "stream",
     "text": [
      "1\n",
      "2\n",
      "3\n",
      "5\n",
      "6\n",
      "7\n",
      "9\n",
      "[0.962, 0.962, 0.9595, 0.959, 0.961, 0.9575, 0.9575]\n",
      "[0.962, 0.962, 0.9595, 0.959, 0.961, 0.9575, 0.9575]\n"
     ]
    }
   ],
   "source": [
    "accuracy_scores_list , f1_scores_list = knn_classifier.train('/home/jyoti/Documents/SMAI/assign1/q1/train.csv')\n",
    "print(accuracy_scores_list)\n",
    "print(f1_scores_list)"
   ]
  },
  {
   "cell_type": "code",
   "execution_count": 60,
   "metadata": {},
   "outputs": [],
   "source": [
    "k_values = [1,2,3,5,6,7,9]"
   ]
  },
  {
   "cell_type": "markdown",
   "metadata": {},
   "source": [
    "### 1. Plot k vs Accuracy Score"
   ]
  },
  {
   "cell_type": "code",
   "execution_count": 63,
   "metadata": {},
   "outputs": [
    {
     "data": {
      "image/png": "[encoded data removed]",
      "text/plain": [
       "<Figure size 432x288 with 1 Axes>"
      ]
     },
     "metadata": {
      "needs_background": "light"
     },
     "output_type": "display_data"
    }
   ],
   "source": [
    "plt.plot(k_values, accuracy_scores_list) \n",
    "plt.xlabel('k') \n",
    "plt.ylabel('Accuracy Score') \n",
    "plt.title('k vs Accuracy Score') \n",
    "plt.show() "
   ]
  },
  {
   "cell_type": "markdown",
   "metadata": {},
   "source": [
    "### 2. Plot k vs F1 Score"
   ]
  },
  {
   "cell_type": "code",
   "execution_count": 62,
   "metadata": {},
   "outputs": [
    {
     "data": {
      "image/png": "[encoded data removed]",
      "text/plain": [
       "<Figure size 432x288 with 1 Axes>"
      ]
     },
     "metadata": {
      "needs_background": "light"
     },
     "output_type": "display_data"
    }
   ],
   "source": [
    "plt.plot(k_values, f1_scores_list) \n",
    "plt.xlabel('k') \n",
    "plt.ylabel('F1 Score') \n",
    "plt.title('k vs F1 Score') \n",
    "plt.show()"
   ]
  },
  {
   "cell_type": "markdown",
   "metadata": {},
   "source": [
    "### Report of Test Data"
   ]
  },
  {
   "cell_type": "code",
   "execution_count": 69,
   "metadata": {},
   "outputs": [],
   "source": [
    "knn_classifier = KNNClassifier()\n",
    "knn_classifier.train('/home/jyoti/Documents/SMAI/assign1/q1/train.csv')\n",
    "predictions = knn_classifier.predict('/home/jyoti/Documents/SMAI/assign1/q1/test.csv')\n",
    "test_labels = list()\n",
    "with open('/home/jyoti/Documents/SMAI/assign1/q1/test_labels.csv') as f:\n",
    "  for line in f:\n",
    "    test_labels.append(int(line))"
   ]
  },
  {
   "cell_type": "markdown",
   "metadata": {},
   "source": [
    "### 1. Accuracy Score "
   ]
  },
  {
   "cell_type": "code",
   "execution_count": 70,
   "metadata": {},
   "outputs": [
    {
     "name": "stdout",
     "output_type": "stream",
     "text": [
      "0.969\n"
     ]
    }
   ],
   "source": [
    "print(accuracy_score(test_labels,predictions))"
   ]
  },
  {
   "cell_type": "markdown",
   "metadata": {},
   "source": [
    "### 2. F1 Score"
   ]
  },
  {
   "cell_type": "code",
   "execution_count": 72,
   "metadata": {},
   "outputs": [
    {
     "name": "stdout",
     "output_type": "stream",
     "text": [
      "0.969\n"
     ]
    }
   ],
   "source": [
    "print(f1_score(test_labels, predictions, average='micro', zero_division='warn'))"
   ]
  },
  {
   "cell_type": "markdown",
   "metadata": {},
   "source": [
    "### 3. Confusion Matrix"
   ]
  },
  {
   "cell_type": "code",
   "execution_count": 75,
   "metadata": {},
   "outputs": [
    {
     "name": "stdout",
     "output_type": "stream",
     "text": [
      "[[ 93   0   0   0   0   0   1   0   0   0]\n",
      " [  0 101   0   0   0   0   0   0   0   0]\n",
      " [  0   0 107   0   0   0   0   1   0   0]\n",
      " [  0   0   0 107   0   0   1   0   0   0]\n",
      " [  0   1   0   0  83   0   1   0   0   6]\n",
      " [  0   0   0   1   0  79   0   0   1   0]\n",
      " [  0   0   0   0   0   0 101   0   0   0]\n",
      " [  0   2   1   0   1   0   0  97   0   3]\n",
      " [  1   0   1   3   0   2   0   0  93   0]\n",
      " [  1   0   1   0   0   0   0   2   0 108]]\n"
     ]
    }
   ],
   "source": [
    "print(confusion_matrix(test_labels, predictions))"
   ]
  },
  {
   "cell_type": "markdown",
   "metadata": {},
   "source": [
    "### 4. Classification Report"
   ]
  },
  {
   "cell_type": "code",
   "execution_count": 93,
   "metadata": {},
   "outputs": [
    {
     "name": "stdout",
     "output_type": "stream",
     "text": [
      "              precision    recall  f1-score   support\n",
      "\n",
      "           0       0.98      0.99      0.98        94\n",
      "           1       0.97      1.00      0.99       101\n",
      "           2       0.97      0.99      0.98       108\n",
      "           3       0.96      0.99      0.98       108\n",
      "           4       0.99      0.91      0.95        91\n",
      "           5       0.98      0.98      0.98        81\n",
      "           6       0.97      1.00      0.99       101\n",
      "           7       0.97      0.93      0.95       104\n",
      "           8       0.99      0.93      0.96       100\n",
      "           9       0.92      0.96      0.94       112\n",
      "\n",
      "    accuracy                           0.97      1000\n",
      "   macro avg       0.97      0.97      0.97      1000\n",
      "weighted avg       0.97      0.97      0.97      1000\n",
      "\n"
     ]
    }
   ],
   "source": [
    "print(classification_report(test_labels, predictions))"
   ]
  },
  {
   "cell_type": "markdown",
   "metadata": {},
   "source": [
    "## Report for Manhattan Distance"
   ]
  },
  {
   "cell_type": "code",
   "execution_count": 90,
   "metadata": {},
   "outputs": [
    {
     "name": "stdout",
     "output_type": "stream",
     "text": [
      "1\n",
      "2\n",
      "3\n",
      "5\n",
      "6\n",
      "7\n",
      "9\n",
      "[0.953, 0.953, 0.951, 0.949, 0.9505, 0.949, 0.9475]\n",
      "[0.953, 0.953, 0.951, 0.949, 0.9505, 0.949, 0.9475]\n"
     ]
    }
   ],
   "source": [
    "accuracy_scores_list_M , f1_scores_list_M = knn_classifier.train('/home/jyoti/Documents/SMAI/assign1/q1/train.csv')\n",
    "print(accuracy_scores_list_M)\n",
    "print(f1_scores_list_M)"
   ]
  },
  {
   "cell_type": "markdown",
   "metadata": {},
   "source": [
    "### 1. Plot k vs Accuracy Score"
   ]
  },
  {
   "cell_type": "code",
   "execution_count": 94,
   "metadata": {},
   "outputs": [
    {
     "data": {
      "image/png": "[encoded data removed]",
      "text/plain": [
       "<Figure size 432x288 with 1 Axes>"
      ]
     },
     "metadata": {
      "needs_background": "light"
     },
     "output_type": "display_data"
    }
   ],
   "source": [
    "plt.plot(k_values, accuracy_scores_list_M) \n",
    "plt.xlabel('k') \n",
    "plt.ylabel('Accuracy Score') \n",
    "plt.title('k vs Accuracy Score') \n",
    "plt.show() "
   ]
  },
  {
   "cell_type": "markdown",
   "metadata": {},
   "source": [
    "### 2. Plot k vs F1 Score"
   ]
  },
  {
   "cell_type": "code",
   "execution_count": 95,
   "metadata": {},
   "outputs": [
    {
     "data": {
      "image/png": "[encoded data removed]",
      "text/plain": [
       "<Figure size 432x288 with 1 Axes>"
      ]
     },
     "metadata": {
      "needs_background": "light"
     },
     "output_type": "display_data"
    }
   ],
   "source": [
    "plt.plot(k_values, f1_scores_list_M) \n",
    "plt.xlabel('k') \n",
    "plt.ylabel('F1 Score') \n",
    "plt.title('k vs F1 Score') \n",
    "plt.show()"
   ]
  },
  {
   "cell_type": "markdown",
   "metadata": {},
   "source": [
    "### Report of Test Data"
   ]
  },
  {
   "cell_type": "code",
   "execution_count": 101,
   "metadata": {},
   "outputs": [],
   "source": [
    "knn_classifier = KNNClassifier()\n",
    "knn_classifier.train('/home/jyoti/Documents/SMAI/assign1/q1/train.csv')\n",
    "predictions_M = knn_classifier.predict('/home/jyoti/Documents/SMAI/assign1/q1/test.csv')\n",
    "test_labels_M = list()\n",
    "with open('/home/jyoti/Documents/SMAI/assign1/q1/test_labels.csv') as f:\n",
    "  for line in f:\n",
    "    test_labels_M.append(int(line))"
   ]
  },
  {
   "cell_type": "markdown",
   "metadata": {},
   "source": [
    "### 1. Accuracy Score"
   ]
  },
  {
   "cell_type": "code",
   "execution_count": 103,
   "metadata": {},
   "outputs": [
    {
     "name": "stdout",
     "output_type": "stream",
     "text": [
      "0.957\n"
     ]
    }
   ],
   "source": [
    "print(accuracy_score(test_labels_M,predictions_M))"
   ]
  },
  {
   "cell_type": "markdown",
   "metadata": {},
   "source": [
    "### 2. F1 Score"
   ]
  },
  {
   "cell_type": "code",
   "execution_count": 104,
   "metadata": {},
   "outputs": [
    {
     "name": "stdout",
     "output_type": "stream",
     "text": [
      "0.957\n"
     ]
    }
   ],
   "source": [
    "print(f1_score(test_labels_M, predictions_M, average='micro', zero_division='warn'))"
   ]
  },
  {
   "cell_type": "markdown",
   "metadata": {},
   "source": [
    "### 3. Confusion Matrix"
   ]
  },
  {
   "cell_type": "code",
   "execution_count": 105,
   "metadata": {},
   "outputs": [
    {
     "name": "stdout",
     "output_type": "stream",
     "text": [
      "[[ 93   0   0   0   0   1   0   0   0   0]\n",
      " [  0 101   0   0   0   0   0   0   0   0]\n",
      " [  0   1 104   1   0   0   0   2   0   0]\n",
      " [  0   0   0 106   0   1   1   0   0   0]\n",
      " [  0   2   0   0  81   0   1   0   0   7]\n",
      " [  0   0   0   2   0  78   0   0   1   0]\n",
      " [  0   0   0   0   0   0 101   0   0   0]\n",
      " [  0   4   0   0   1   0   0  96   0   3]\n",
      " [  1   0   1   4   0   2   0   0  91   1]\n",
      " [  1   0   1   0   1   0   0   3   0 106]]\n"
     ]
    }
   ],
   "source": [
    "print(confusion_matrix(test_labels_M, predictions_M))"
   ]
  },
  {
   "cell_type": "markdown",
   "metadata": {},
   "source": [
    "### 4. Classification Report"
   ]
  },
  {
   "cell_type": "code",
   "execution_count": 106,
   "metadata": {},
   "outputs": [
    {
     "name": "stdout",
     "output_type": "stream",
     "text": [
      "              precision    recall  f1-score   support\n",
      "\n",
      "           0       0.98      0.99      0.98        94\n",
      "           1       0.94      1.00      0.97       101\n",
      "           2       0.98      0.96      0.97       108\n",
      "           3       0.94      0.98      0.96       108\n",
      "           4       0.98      0.89      0.93        91\n",
      "           5       0.95      0.96      0.96        81\n",
      "           6       0.98      1.00      0.99       101\n",
      "           7       0.95      0.92      0.94       104\n",
      "           8       0.99      0.91      0.95       100\n",
      "           9       0.91      0.95      0.93       112\n",
      "\n",
      "    accuracy                           0.96      1000\n",
      "   macro avg       0.96      0.96      0.96      1000\n",
      "weighted avg       0.96      0.96      0.96      1000\n",
      "\n"
     ]
    }
   ],
   "source": [
    "print(classification_report(test_labels_M, predictions_M))"
   ]
  },
  {
   "cell_type": "markdown",
   "metadata": {},
   "source": [
    "## Performance of Scikit-learn's Classifier"
   ]
  },
  {
   "cell_type": "code",
   "execution_count": 122,
   "metadata": {},
   "outputs": [
    {
     "name": "stdout",
     "output_type": "stream",
     "text": [
      "(19999,)\n",
      "(19999, 784)\n"
     ]
    }
   ],
   "source": [
    "from sklearn.neighbors import KNeighborsClassifier\n",
    "\n",
    "train_data_frm = pd.read_csv('/home/jyoti/Documents/SMAI/assign1/q1/train.csv')\n",
    "train_labels = train_data_frm.iloc[:,0].values\n",
    "train_d = train_data_frm.iloc[:,1:].values\n",
    "test_d = pd.read_csv('/home/jyoti/Documents/SMAI/assign1/q1/test.csv', header=None).values\n",
    "num_of_neigh = KNeighborsClassifier(n_neighbors=3)\n",
    "num_of_neigh.fit(train_d, train_labels)\n",
    "predictions_knn = num_of_neigh.predict(test_d)"
   ]
  },
  {
   "cell_type": "markdown",
   "metadata": {},
   "source": [
    "### 1. Accuracy Score"
   ]
  },
  {
   "cell_type": "code",
   "execution_count": 116,
   "metadata": {},
   "outputs": [
    {
     "name": "stdout",
     "output_type": "stream",
     "text": [
      "0.967\n"
     ]
    }
   ],
   "source": [
    "print(accuracy_score(test_labels,predictions_knn))"
   ]
  },
  {
   "cell_type": "markdown",
   "metadata": {},
   "source": [
    "### 2. F1 Score"
   ]
  },
  {
   "cell_type": "code",
   "execution_count": 118,
   "metadata": {},
   "outputs": [
    {
     "name": "stdout",
     "output_type": "stream",
     "text": [
      "0.967\n"
     ]
    }
   ],
   "source": [
    "print(f1_score(test_labels, predictions_knn, average='micro', zero_division='warn'))"
   ]
  },
  {
   "cell_type": "markdown",
   "metadata": {},
   "source": [
    "### 3. Confusion Matrix"
   ]
  },
  {
   "cell_type": "code",
   "execution_count": 119,
   "metadata": {},
   "outputs": [
    {
     "name": "stdout",
     "output_type": "stream",
     "text": [
      "[[ 93   0   0   0   0   0   1   0   0   0]\n",
      " [  0 101   0   0   0   0   0   0   0   0]\n",
      " [  0   0 107   0   0   0   0   1   0   0]\n",
      " [  0   0   0 107   0   0   1   0   0   0]\n",
      " [  0   1   0   0  83   0   1   0   0   6]\n",
      " [  0   0   0   1   0  79   0   0   1   0]\n",
      " [  0   0   0   0   0   0 101   0   0   0]\n",
      " [  0   2   1   0   1   0   0  97   0   3]\n",
      " [  1   0   2   2   0   2   0   0  93   0]\n",
      " [  2   0   1   0   1   1   0   1   0 106]]\n"
     ]
    }
   ],
   "source": [
    "print(confusion_matrix(test_labels, predictions_knn))"
   ]
  },
  {
   "cell_type": "markdown",
   "metadata": {},
   "source": [
    "### 4. Classification Report"
   ]
  },
  {
   "cell_type": "code",
   "execution_count": 121,
   "metadata": {},
   "outputs": [
    {
     "name": "stdout",
     "output_type": "stream",
     "text": [
      "              precision    recall  f1-score   support\n",
      "\n",
      "           0       0.97      0.99      0.98        94\n",
      "           1       0.97      1.00      0.99       101\n",
      "           2       0.96      0.99      0.98       108\n",
      "           3       0.97      0.99      0.98       108\n",
      "           4       0.98      0.91      0.94        91\n",
      "           5       0.96      0.98      0.97        81\n",
      "           6       0.97      1.00      0.99       101\n",
      "           7       0.98      0.93      0.96       104\n",
      "           8       0.99      0.93      0.96       100\n",
      "           9       0.92      0.95      0.93       112\n",
      "\n",
      "    accuracy                           0.97      1000\n",
      "   macro avg       0.97      0.97      0.97      1000\n",
      "weighted avg       0.97      0.97      0.97      1000\n",
      "\n"
     ]
    }
   ],
   "source": [
    "print(classification_report(test_labels, predictions_knn))"
   ]
  }
 ],
 "metadata": {
  "kernelspec": {
   "display_name": "Python 3",
   "language": "python",
   "name": "python3"
  },
  "language_info": {
   "codemirror_mode": {
    "name": "ipython",
    "version": 3
   },
   "file_extension": ".py",
   "mimetype": "text/x-python",
   "name": "python",
   "nbconvert_exporter": "python",
   "pygments_lexer": "ipython3",
   "version": "3.7.5"
  }
 },
 "nbformat": 4,
 "nbformat_minor": 2
}
